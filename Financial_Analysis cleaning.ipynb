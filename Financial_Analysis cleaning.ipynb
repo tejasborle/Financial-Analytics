{
 "cells": [
  {
   "cell_type": "code",
   "execution_count": 171,
   "id": "a17b4bf0",
   "metadata": {},
   "outputs": [],
   "source": [
    "import pandas as pd\n",
    "import matplotlib.pyplot as plt\n"
   ]
  },
  {
   "cell_type": "code",
   "execution_count": 172,
   "id": "94779ff6",
   "metadata": {},
   "outputs": [],
   "source": [
    "df = pd.read_csv('Financial Analytics data.csv')"
   ]
  },
  {
   "cell_type": "code",
   "execution_count": 173,
   "id": "13d2ef20",
   "metadata": {},
   "outputs": [
    {
     "data": {
      "text/html": [
       "<div>\n",
       "<style scoped>\n",
       "    .dataframe tbody tr th:only-of-type {\n",
       "        vertical-align: middle;\n",
       "    }\n",
       "\n",
       "    .dataframe tbody tr th {\n",
       "        vertical-align: top;\n",
       "    }\n",
       "\n",
       "    .dataframe thead th {\n",
       "        text-align: right;\n",
       "    }\n",
       "</style>\n",
       "<table border=\"1\" class=\"dataframe\">\n",
       "  <thead>\n",
       "    <tr style=\"text-align: right;\">\n",
       "      <th></th>\n",
       "      <th>S.No.</th>\n",
       "      <th>Name</th>\n",
       "      <th>Mar Cap - Crore</th>\n",
       "      <th>Sales Qtr - Crore</th>\n",
       "      <th>Unnamed: 4</th>\n",
       "    </tr>\n",
       "  </thead>\n",
       "  <tbody>\n",
       "    <tr>\n",
       "      <th>0</th>\n",
       "      <td>1</td>\n",
       "      <td>Reliance Inds.</td>\n",
       "      <td>583436.72</td>\n",
       "      <td>99810.00</td>\n",
       "      <td>NaN</td>\n",
       "    </tr>\n",
       "    <tr>\n",
       "      <th>1</th>\n",
       "      <td>2</td>\n",
       "      <td>TCS</td>\n",
       "      <td>563709.84</td>\n",
       "      <td>30904.00</td>\n",
       "      <td>NaN</td>\n",
       "    </tr>\n",
       "    <tr>\n",
       "      <th>2</th>\n",
       "      <td>3</td>\n",
       "      <td>HDFC Bank</td>\n",
       "      <td>482953.59</td>\n",
       "      <td>20581.27</td>\n",
       "      <td>NaN</td>\n",
       "    </tr>\n",
       "    <tr>\n",
       "      <th>3</th>\n",
       "      <td>4</td>\n",
       "      <td>ITC</td>\n",
       "      <td>320985.27</td>\n",
       "      <td>9772.02</td>\n",
       "      <td>NaN</td>\n",
       "    </tr>\n",
       "    <tr>\n",
       "      <th>4</th>\n",
       "      <td>5</td>\n",
       "      <td>H D F C</td>\n",
       "      <td>289497.37</td>\n",
       "      <td>16840.51</td>\n",
       "      <td>NaN</td>\n",
       "    </tr>\n",
       "  </tbody>\n",
       "</table>\n",
       "</div>"
      ],
      "text/plain": [
       "   S.No.            Name  Mar Cap - Crore  Sales Qtr - Crore  Unnamed: 4\n",
       "0      1  Reliance Inds.        583436.72           99810.00         NaN\n",
       "1      2             TCS        563709.84           30904.00         NaN\n",
       "2      3       HDFC Bank        482953.59           20581.27         NaN\n",
       "3      4             ITC        320985.27            9772.02         NaN\n",
       "4      5         H D F C        289497.37           16840.51         NaN"
      ]
     },
     "execution_count": 173,
     "metadata": {},
     "output_type": "execute_result"
    }
   ],
   "source": [
    "df.head()\n"
   ]
  },
  {
   "cell_type": "code",
   "execution_count": 174,
   "id": "9bf422f0",
   "metadata": {},
   "outputs": [
    {
     "name": "stdout",
     "output_type": "stream",
     "text": [
      "<class 'pandas.core.frame.DataFrame'>\n",
      "RangeIndex: 488 entries, 0 to 487\n",
      "Data columns (total 5 columns):\n",
      " #   Column             Non-Null Count  Dtype  \n",
      "---  ------             --------------  -----  \n",
      " 0   S.No.              488 non-null    int64  \n",
      " 1   Name               488 non-null    object \n",
      " 2   Mar Cap - Crore    479 non-null    float64\n",
      " 3   Sales Qtr - Crore  365 non-null    float64\n",
      " 4   Unnamed: 4         94 non-null     float64\n",
      "dtypes: float64(3), int64(1), object(1)\n",
      "memory usage: 19.2+ KB\n"
     ]
    }
   ],
   "source": [
    "df.info()\n"
   ]
  },
  {
   "cell_type": "code",
   "execution_count": 175,
   "id": "844d909f",
   "metadata": {},
   "outputs": [],
   "source": [
    "# Renaming columns for clarity\n",
    "df.rename(columns={ 'S.No.': 'Serial_No',\n",
    "                    'Name': 'Company_Name',\n",
    "                    'Mar Cap - Crore': 'Market_Cap_Crore',\n",
    "                    'Sales Qtr - Crore': 'Sales_Quarter_Crore',\n",
    "                    'Unnamed: 4': 'Sales_Quarter_Crore_Alt'\n",
    "                  }, inplace=True)"
   ]
  },
  {
   "cell_type": "code",
   "execution_count": 176,
   "id": "20ff2d28",
   "metadata": {},
   "outputs": [
    {
     "data": {
      "text/html": [
       "<div>\n",
       "<style scoped>\n",
       "    .dataframe tbody tr th:only-of-type {\n",
       "        vertical-align: middle;\n",
       "    }\n",
       "\n",
       "    .dataframe tbody tr th {\n",
       "        vertical-align: top;\n",
       "    }\n",
       "\n",
       "    .dataframe thead th {\n",
       "        text-align: right;\n",
       "    }\n",
       "</style>\n",
       "<table border=\"1\" class=\"dataframe\">\n",
       "  <thead>\n",
       "    <tr style=\"text-align: right;\">\n",
       "      <th></th>\n",
       "      <th>Serial_No</th>\n",
       "      <th>Company_Name</th>\n",
       "      <th>Market_Cap_Crore</th>\n",
       "      <th>Sales_Quarter_Crore</th>\n",
       "      <th>Sales_Quarter_Crore_Alt</th>\n",
       "    </tr>\n",
       "  </thead>\n",
       "  <tbody>\n",
       "    <tr>\n",
       "      <th>0</th>\n",
       "      <td>1</td>\n",
       "      <td>Reliance Inds.</td>\n",
       "      <td>583436.72</td>\n",
       "      <td>99810.00</td>\n",
       "      <td>NaN</td>\n",
       "    </tr>\n",
       "    <tr>\n",
       "      <th>1</th>\n",
       "      <td>2</td>\n",
       "      <td>TCS</td>\n",
       "      <td>563709.84</td>\n",
       "      <td>30904.00</td>\n",
       "      <td>NaN</td>\n",
       "    </tr>\n",
       "    <tr>\n",
       "      <th>2</th>\n",
       "      <td>3</td>\n",
       "      <td>HDFC Bank</td>\n",
       "      <td>482953.59</td>\n",
       "      <td>20581.27</td>\n",
       "      <td>NaN</td>\n",
       "    </tr>\n",
       "    <tr>\n",
       "      <th>3</th>\n",
       "      <td>4</td>\n",
       "      <td>ITC</td>\n",
       "      <td>320985.27</td>\n",
       "      <td>9772.02</td>\n",
       "      <td>NaN</td>\n",
       "    </tr>\n",
       "    <tr>\n",
       "      <th>4</th>\n",
       "      <td>5</td>\n",
       "      <td>H D F C</td>\n",
       "      <td>289497.37</td>\n",
       "      <td>16840.51</td>\n",
       "      <td>NaN</td>\n",
       "    </tr>\n",
       "  </tbody>\n",
       "</table>\n",
       "</div>"
      ],
      "text/plain": [
       "   Serial_No    Company_Name  Market_Cap_Crore  Sales_Quarter_Crore  \\\n",
       "0          1  Reliance Inds.         583436.72             99810.00   \n",
       "1          2             TCS         563709.84             30904.00   \n",
       "2          3       HDFC Bank         482953.59             20581.27   \n",
       "3          4             ITC         320985.27              9772.02   \n",
       "4          5         H D F C         289497.37             16840.51   \n",
       "\n",
       "   Sales_Quarter_Crore_Alt  \n",
       "0                      NaN  \n",
       "1                      NaN  \n",
       "2                      NaN  \n",
       "3                      NaN  \n",
       "4                      NaN  "
      ]
     },
     "execution_count": 176,
     "metadata": {},
     "output_type": "execute_result"
    }
   ],
   "source": [
    "df.head()"
   ]
  },
  {
   "cell_type": "code",
   "execution_count": 177,
   "id": "c15dc602",
   "metadata": {},
   "outputs": [],
   "source": [
    "# Replace null values in Sales_Quarter_Crore with corresponding values from Sales_Quarter_Crore_Alt\n",
    "df['Sales_Quarter_Crore'].fillna(df['Sales_Quarter_Crore_Alt'], inplace=True)"
   ]
  },
  {
   "cell_type": "code",
   "execution_count": 178,
   "id": "413839fa",
   "metadata": {},
   "outputs": [],
   "source": [
    "del df[\"Sales_Quarter_Crore_Alt\"]"
   ]
  },
  {
   "cell_type": "code",
   "execution_count": 179,
   "id": "6e45d962",
   "metadata": {},
   "outputs": [
    {
     "data": {
      "text/html": [
       "<div>\n",
       "<style scoped>\n",
       "    .dataframe tbody tr th:only-of-type {\n",
       "        vertical-align: middle;\n",
       "    }\n",
       "\n",
       "    .dataframe tbody tr th {\n",
       "        vertical-align: top;\n",
       "    }\n",
       "\n",
       "    .dataframe thead th {\n",
       "        text-align: right;\n",
       "    }\n",
       "</style>\n",
       "<table border=\"1\" class=\"dataframe\">\n",
       "  <thead>\n",
       "    <tr style=\"text-align: right;\">\n",
       "      <th></th>\n",
       "      <th>Serial_No</th>\n",
       "      <th>Company_Name</th>\n",
       "      <th>Market_Cap_Crore</th>\n",
       "      <th>Sales_Quarter_Crore</th>\n",
       "    </tr>\n",
       "  </thead>\n",
       "  <tbody>\n",
       "    <tr>\n",
       "      <th>0</th>\n",
       "      <td>1</td>\n",
       "      <td>Reliance Inds.</td>\n",
       "      <td>583436.72</td>\n",
       "      <td>99810.00</td>\n",
       "    </tr>\n",
       "    <tr>\n",
       "      <th>1</th>\n",
       "      <td>2</td>\n",
       "      <td>TCS</td>\n",
       "      <td>563709.84</td>\n",
       "      <td>30904.00</td>\n",
       "    </tr>\n",
       "    <tr>\n",
       "      <th>2</th>\n",
       "      <td>3</td>\n",
       "      <td>HDFC Bank</td>\n",
       "      <td>482953.59</td>\n",
       "      <td>20581.27</td>\n",
       "    </tr>\n",
       "    <tr>\n",
       "      <th>3</th>\n",
       "      <td>4</td>\n",
       "      <td>ITC</td>\n",
       "      <td>320985.27</td>\n",
       "      <td>9772.02</td>\n",
       "    </tr>\n",
       "    <tr>\n",
       "      <th>4</th>\n",
       "      <td>5</td>\n",
       "      <td>H D F C</td>\n",
       "      <td>289497.37</td>\n",
       "      <td>16840.51</td>\n",
       "    </tr>\n",
       "  </tbody>\n",
       "</table>\n",
       "</div>"
      ],
      "text/plain": [
       "   Serial_No    Company_Name  Market_Cap_Crore  Sales_Quarter_Crore\n",
       "0          1  Reliance Inds.         583436.72             99810.00\n",
       "1          2             TCS         563709.84             30904.00\n",
       "2          3       HDFC Bank         482953.59             20581.27\n",
       "3          4             ITC         320985.27              9772.02\n",
       "4          5         H D F C         289497.37             16840.51"
      ]
     },
     "execution_count": 179,
     "metadata": {},
     "output_type": "execute_result"
    }
   ],
   "source": [
    "df.head()"
   ]
  },
  {
   "cell_type": "code",
   "execution_count": 180,
   "id": "f6f18683",
   "metadata": {},
   "outputs": [
    {
     "data": {
      "text/plain": [
       "Serial_No               0\n",
       "Company_Name            0\n",
       "Market_Cap_Crore        9\n",
       "Sales_Quarter_Crore    29\n",
       "dtype: int64"
      ]
     },
     "execution_count": 180,
     "metadata": {},
     "output_type": "execute_result"
    }
   ],
   "source": [
    "df.isnull().sum()"
   ]
  },
  {
   "cell_type": "code",
   "execution_count": 181,
   "id": "e1fe80fc",
   "metadata": {},
   "outputs": [],
   "source": [
    "df.dropna(inplace = True)"
   ]
  },
  {
   "cell_type": "code",
   "execution_count": 182,
   "id": "3cb1b73b",
   "metadata": {},
   "outputs": [
    {
     "data": {
      "text/plain": [
       "Serial_No                    0\n",
       "Company_Name                 0\n",
       "Market_Cap_Crore             0\n",
       "Sales_Quarter_Crore          0\n",
       "market_cap to Sales ratio    0\n",
       "marcap to Sales ratio        0\n",
       "dtype: int64"
      ]
     },
     "execution_count": 182,
     "metadata": {},
     "output_type": "execute_result"
    }
   ],
   "source": [
    "new_df.isnull().sum()"
   ]
  },
  {
   "cell_type": "code",
   "execution_count": 183,
   "id": "5925aed8",
   "metadata": {},
   "outputs": [
    {
     "data": {
      "text/plain": [
       "0      False\n",
       "1      False\n",
       "2      False\n",
       "3      False\n",
       "4      False\n",
       "       ...  \n",
       "482    False\n",
       "483    False\n",
       "484    False\n",
       "485    False\n",
       "486    False\n",
       "Name: Company_Name, Length: 459, dtype: bool"
      ]
     },
     "execution_count": 183,
     "metadata": {},
     "output_type": "execute_result"
    }
   ],
   "source": [
    "#checking for duplicate values\n",
    "df['Company_Name'].duplicated()"
   ]
  },
  {
   "cell_type": "code",
   "execution_count": 184,
   "id": "3eef79f1",
   "metadata": {},
   "outputs": [],
   "source": [
    "df['Market_Cap_to_Sales_Ratio'] = df['Market_Cap_Crore'] / df['Sales_Quarter_Crore']"
   ]
  },
  {
   "cell_type": "code",
   "execution_count": 185,
   "id": "ae9df0fb",
   "metadata": {},
   "outputs": [
    {
     "data": {
      "text/html": [
       "<div>\n",
       "<style scoped>\n",
       "    .dataframe tbody tr th:only-of-type {\n",
       "        vertical-align: middle;\n",
       "    }\n",
       "\n",
       "    .dataframe tbody tr th {\n",
       "        vertical-align: top;\n",
       "    }\n",
       "\n",
       "    .dataframe thead th {\n",
       "        text-align: right;\n",
       "    }\n",
       "</style>\n",
       "<table border=\"1\" class=\"dataframe\">\n",
       "  <thead>\n",
       "    <tr style=\"text-align: right;\">\n",
       "      <th></th>\n",
       "      <th>Serial_No</th>\n",
       "      <th>Company_Name</th>\n",
       "      <th>Market_Cap_Crore</th>\n",
       "      <th>Sales_Quarter_Crore</th>\n",
       "      <th>Market_Cap_to_Sales_Ratio</th>\n",
       "    </tr>\n",
       "  </thead>\n",
       "  <tbody>\n",
       "    <tr>\n",
       "      <th>0</th>\n",
       "      <td>1</td>\n",
       "      <td>Reliance Inds.</td>\n",
       "      <td>583436.72</td>\n",
       "      <td>99810.00</td>\n",
       "      <td>5.845474</td>\n",
       "    </tr>\n",
       "    <tr>\n",
       "      <th>1</th>\n",
       "      <td>2</td>\n",
       "      <td>TCS</td>\n",
       "      <td>563709.84</td>\n",
       "      <td>30904.00</td>\n",
       "      <td>18.240676</td>\n",
       "    </tr>\n",
       "    <tr>\n",
       "      <th>2</th>\n",
       "      <td>3</td>\n",
       "      <td>HDFC Bank</td>\n",
       "      <td>482953.59</td>\n",
       "      <td>20581.27</td>\n",
       "      <td>23.465685</td>\n",
       "    </tr>\n",
       "    <tr>\n",
       "      <th>3</th>\n",
       "      <td>4</td>\n",
       "      <td>ITC</td>\n",
       "      <td>320985.27</td>\n",
       "      <td>9772.02</td>\n",
       "      <td>32.847382</td>\n",
       "    </tr>\n",
       "    <tr>\n",
       "      <th>4</th>\n",
       "      <td>5</td>\n",
       "      <td>H D F C</td>\n",
       "      <td>289497.37</td>\n",
       "      <td>16840.51</td>\n",
       "      <td>17.190535</td>\n",
       "    </tr>\n",
       "  </tbody>\n",
       "</table>\n",
       "</div>"
      ],
      "text/plain": [
       "   Serial_No    Company_Name  Market_Cap_Crore  Sales_Quarter_Crore  \\\n",
       "0          1  Reliance Inds.         583436.72             99810.00   \n",
       "1          2             TCS         563709.84             30904.00   \n",
       "2          3       HDFC Bank         482953.59             20581.27   \n",
       "3          4             ITC         320985.27              9772.02   \n",
       "4          5         H D F C         289497.37             16840.51   \n",
       "\n",
       "   Market_Cap_to_Sales_Ratio  \n",
       "0                   5.845474  \n",
       "1                  18.240676  \n",
       "2                  23.465685  \n",
       "3                  32.847382  \n",
       "4                  17.190535  "
      ]
     },
     "execution_count": 185,
     "metadata": {},
     "output_type": "execute_result"
    }
   ],
   "source": [
    "df.head()"
   ]
  },
  {
   "cell_type": "code",
   "execution_count": 186,
   "id": "b341a026",
   "metadata": {},
   "outputs": [],
   "source": [
    "#Max value of market cap and sales qtr\n",
    "m=df['Market_Cap_Crore'].max()\n",
    "s=df['Sales_Quarter_Crore'].max()"
   ]
  },
  {
   "cell_type": "code",
   "execution_count": 187,
   "id": "2d404061",
   "metadata": {},
   "outputs": [
    {
     "name": "stdout",
     "output_type": "stream",
     "text": [
      "583436.72\n",
      "110666.93\n"
     ]
    }
   ],
   "source": [
    "print(m)\n",
    "print(s)"
   ]
  },
  {
   "cell_type": "code",
   "execution_count": 188,
   "id": "a804f459",
   "metadata": {},
   "outputs": [],
   "source": [
    "#Min value of market cap and sales qtr\n",
    "c=df['Market_Cap_Crore'].min()\n",
    "q=df['Sales_Quarter_Crore'].min()"
   ]
  },
  {
   "cell_type": "code",
   "execution_count": 189,
   "id": "c3f1cf93",
   "metadata": {},
   "outputs": [
    {
     "name": "stdout",
     "output_type": "stream",
     "text": [
      "3017.07\n",
      "0.0\n"
     ]
    }
   ],
   "source": [
    "print(c)\n",
    "print(q)"
   ]
  },
  {
   "cell_type": "code",
   "execution_count": 190,
   "id": "7b3c4b55",
   "metadata": {},
   "outputs": [
    {
     "name": "stdout",
     "output_type": "stream",
     "text": [
      "    Serial_No    Company_Name  Market_Cap_Crore  Sales_Quarter_Crore  \\\n",
      "14         15         I O C L         178017.48            110666.93   \n",
      "0           1  Reliance Inds.         583436.72             99810.00   \n",
      "23         24     Tata Motors         117071.87             74156.07   \n",
      "27         28         B P C L          98278.00             60616.36   \n",
      "54         55         H P C L          58034.78             57474.25   \n",
      "\n",
      "    Market_Cap_to_Sales_Ratio  \n",
      "14                   1.608588  \n",
      "0                    5.845474  \n",
      "23                   1.578723  \n",
      "27                   1.621311  \n",
      "54                   1.009753  \n"
     ]
    }
   ],
   "source": [
    "#print top 5 companies by sales qtr parameter\n",
    "p=df.nlargest(5, columns=[\"Sales_Quarter_Crore\"], keep='first')\n",
    "print(p)"
   ]
  },
  {
   "cell_type": "code",
   "execution_count": 191,
   "id": "66972b85",
   "metadata": {},
   "outputs": [
    {
     "data": {
      "image/png": "[encoded data removed]",
      "text/plain": [
       "<Figure size 640x480 with 1 Axes>"
      ]
     },
     "metadata": {},
     "output_type": "display_data"
    }
   ],
   "source": [
    "#plot the graph of compaines vs sales\n",
    "x=p['Company_Name']\n",
    "y=p['Sales_Quarter_Crore']\n",
    "plt.xlabel('Company_Name', fontsize=20)\n",
    "plt.ylabel('Sales_Quarter_Crore', fontsize =20)\n",
    "plt.bar(x,y)\n",
    "plt.show()"
   ]
  },
  {
   "cell_type": "code",
   "execution_count": 192,
   "id": "94539e3d",
   "metadata": {},
   "outputs": [
    {
     "name": "stdout",
     "output_type": "stream",
     "text": [
      "   Serial_No    Company_Name  Market_Cap_Crore  Sales_Quarter_Crore  \\\n",
      "0          1  Reliance Inds.         583436.72             99810.00   \n",
      "1          2             TCS         563709.84             30904.00   \n",
      "2          3       HDFC Bank         482953.59             20581.27   \n",
      "3          4             ITC         320985.27              9772.02   \n",
      "4          5         H D F C         289497.37             16840.51   \n",
      "\n",
      "   Market_Cap_to_Sales_Ratio  \n",
      "0                   5.845474  \n",
      "1                  18.240676  \n",
      "2                  23.465685  \n",
      "3                  32.847382  \n",
      "4                  17.190535  \n"
     ]
    }
   ],
   "source": [
    "#print top 5 companies by market cap parameter\n",
    "f=df.nlargest(5, columns=[\"Market_Cap_Crore\"], keep='first')\n",
    "print(f)"
   ]
  },
  {
   "cell_type": "code",
   "execution_count": 193,
   "id": "f4e6dd23",
   "metadata": {},
   "outputs": [
    {
     "data": {
      "image/png": "[encoded data removed]",
      "text/plain": [
       "<Figure size 640x480 with 1 Axes>"
      ]
     },
     "metadata": {},
     "output_type": "display_data"
    }
   ],
   "source": [
    "#plot the graph of compaines vs market cap\n",
    "x=f['Company_Name']\n",
    "y=f['Market_Cap_Crore']\n",
    "plt.pie(y, labels=x, radius =1.2,autopct='%0.01f%%', shadow=True,)\n",
    "plt.show()"
   ]
  },
  {
   "cell_type": "code",
   "execution_count": 194,
   "id": "3977048d",
   "metadata": {},
   "outputs": [
    {
     "name": "stdout",
     "output_type": "stream",
     "text": [
      "     Serial_No      Company_Name  Market_Cap_Crore  Sales_Quarter_Crore  \\\n",
      "320        333   Redington India           5896.54             11728.40   \n",
      "122        123    Rajesh Exports          23495.54             41304.84   \n",
      "334        347           C P C L           5427.82              8587.17   \n",
      "441        454  Corporation Bank           3716.46              4387.85   \n",
      "444        457     Oriental Bank           3674.60              4262.08   \n",
      "\n",
      "     Market_Cap_to_Sales_Ratio  \n",
      "320                   0.502757  \n",
      "122                   0.568833  \n",
      "334                   0.632085  \n",
      "441                   0.846989  \n",
      "444                   0.862161  \n"
     ]
    }
   ],
   "source": [
    "#print top 5 companies vs marcap to salesqtr ratio \n",
    "g=df.nsmallest(5, columns=[\"Market_Cap_to_Sales_Ratio\"], keep='first')\n",
    "print(g)"
   ]
  },
  {
   "cell_type": "code",
   "execution_count": 195,
   "id": "e8ed0c6f",
   "metadata": {},
   "outputs": [
    {
     "data": {
      "image/png": "[encoded data removed]",
      "text/plain": [
       "<Figure size 640x480 with 1 Axes>"
      ]
     },
     "metadata": {},
     "output_type": "display_data"
    }
   ],
   "source": [
    "x=g['Company_Name']\n",
    "y=g['Market_Cap_to_Sales_Ratio']\n",
    "plt.xlabel('Company_Name', fontsize=16)\n",
    "plt.ylabel('Market_Cap_to_Sales_Ratio', fontsize =16)\n",
    "plt.scatter(x,y)\n",
    "plt.plot(x,y)\n",
    "plt.show()"
   ]
  },
  {
   "cell_type": "code",
   "execution_count": 196,
   "id": "b366a62e",
   "metadata": {},
   "outputs": [],
   "source": [
    "df.to_csv(\"cleanedFinancial.CSV\", index=False)"
   ]
  },
  {
   "cell_type": "code",
   "execution_count": null,
   "id": "1d0d7004",
   "metadata": {},
   "outputs": [],
   "source": []
  }
 ],
 "metadata": {
  "kernelspec": {
   "display_name": "Python 3 (ipykernel)",
   "language": "python",
   "name": "python3"
  },
  "language_info": {
   "codemirror_mode": {
    "name": "ipython",
    "version": 3
   },
   "file_extension": ".py",
   "mimetype": "text/x-python",
   "name": "python",
   "nbconvert_exporter": "python",
   "pygments_lexer": "ipython3",
   "version": "3.10.9"
  }
 },
 "nbformat": 4,
 "nbformat_minor": 5
}
